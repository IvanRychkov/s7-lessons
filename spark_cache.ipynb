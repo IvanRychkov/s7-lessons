{
 "cells": [
  {
   "cell_type": "code",
   "execution_count": 15,
   "outputs": [
    {
     "data": {
      "text/plain": "'/usr/local/lib/python3.8/dist-packages/pyspark'"
     },
     "execution_count": 15,
     "metadata": {},
     "output_type": "execute_result"
    }
   ],
   "source": [
    "from pyspark.sql import SparkSession\n",
    "from pyspark import SparkContext, SparkConf\n",
    "import findspark\n",
    "import os\n",
    "\n",
    "os.environ['HADOOP_CONF_DIR'] = '/etc/hadoop/conf'\n",
    "os.environ['YARN_CONF_DIR'] = '/etc/hadoop/conf'\n",
    "\n",
    "findspark.init()\n",
    "findspark.find()"
   ],
   "metadata": {
    "collapsed": false
   }
  },
  {
   "cell_type": "code",
   "execution_count": 17,
   "outputs": [],
   "source": [
    "spark = SparkSession.builder \\\n",
    "    .master(\"local\") \\\n",
    "    .appName(\"Spark Caching\") \\\n",
    "    .getOrCreate()\n",
    "\n",
    "sc = SparkContext.getOrCreate(SparkConf())\n",
    "sc.setCheckpointDir('/user/ivanrychko/analytics/test_checkpoints')"
   ],
   "metadata": {
    "collapsed": false
   }
  },
  {
   "cell_type": "code",
   "execution_count": 9,
   "outputs": [],
   "source": [
    "book = [('Harry Potter and the Goblet of Fire', 'J. K. Rowling', 322),\n",
    "        ('Nineteen Eighty-Four', 'George Orwell', 382),\n",
    "        ('Jane Eyre', 'Charlotte Brontë', 159),\n",
    "        ('Catch-22', 'Joseph Heller', 174),\n",
    "        ('The Catcher in the Rye', 'J. D. Salinger', 168),\n",
    "        ('The Wind in the Willows', 'Kenneth Grahame', 259),\n",
    "        ('The Mayor of Casterbridge', 'Thomas Hardy', 300),\n",
    "        ('Bad Girls', 'Jacqueline Wilson', 299)\n",
    "        ]\n",
    "\n",
    "# данные второго датафрейма\n",
    "library = [\n",
    "    (322, \"1\"),\n",
    "    (250, \"2\"),\n",
    "    (400, \"2\"),\n",
    "    (159, \"1\"),\n",
    "    (382, \"2\"),\n",
    "    (322, \"1\")\n",
    "]\n",
    "\n",
    "# названия атрибутов\n",
    "columns = ['title', 'author', 'book_id']\n",
    "columns_library = ['book_id', 'Library_id']\n",
    "\n",
    "# создаём датафреймы\n",
    "df = spark.createDataFrame(data=book, schema=columns)\n",
    "df_library = spark.createDataFrame(data=library, schema=columns_library)\n",
    "\n",
    "# делаем join\n",
    "df_join = df.join(df_library, ['book_id'], 'leftanti').select('title')\n",
    "df_cache = df_join.cache()"
   ],
   "metadata": {
    "collapsed": false
   }
  },
  {
   "cell_type": "markdown",
   "source": [
    "---"
   ],
   "metadata": {
    "collapsed": false
   }
  },
  {
   "cell_type": "code",
   "execution_count": 10,
   "outputs": [
    {
     "name": "stderr",
     "output_type": "stream",
     "text": [
      "[Stage 16:==================================================>     (67 + 1) / 75]\r"
     ]
    },
    {
     "name": "stdout",
     "output_type": "stream",
     "text": [
      "+--------------------+\n",
      "|               title|\n",
      "+--------------------+\n",
      "|           Bad Girls|\n",
      "|            Catch-22|\n",
      "|The Catcher in th...|\n",
      "|The Mayor of Cast...|\n",
      "|The Wind in the W...|\n",
      "+--------------------+\n",
      "\n",
      "== Physical Plan ==\n",
      "InMemoryTableScan [title#394]\n",
      "   +- InMemoryRelation [title#394], StorageLevel(disk, memory, deserialized, 1 replicas)\n",
      "         +- *(5) Project [title#394]\n",
      "            +- *(5) SortMergeJoin [book_id#396L], [book_id#400L], LeftAnti\n",
      "               :- *(2) Sort [book_id#396L ASC NULLS FIRST], false, 0\n",
      "               :  +- Exchange hashpartitioning(book_id#396L, 200), ENSURE_REQUIREMENTS, [plan_id=218]\n",
      "               :     +- *(1) Project [title#394, book_id#396L]\n",
      "               :        +- *(1) Scan ExistingRDD[title#394,author#395,book_id#396L]\n",
      "               +- *(4) Sort [book_id#400L ASC NULLS FIRST], false, 0\n",
      "                  +- Exchange hashpartitioning(book_id#400L, 200), ENSURE_REQUIREMENTS, [plan_id=227]\n",
      "                     +- *(3) Project [book_id#400L]\n",
      "                        +- *(3) Filter isnotnull(book_id#400L)\n",
      "                           +- *(3) Scan ExistingRDD[book_id#400L,Library_id#401]\n",
      "\n",
      "\n"
     ]
    },
    {
     "name": "stderr",
     "output_type": "stream",
     "text": [
      "                                                                                \r"
     ]
    }
   ],
   "source": [
    "df_cache.show()\n",
    "\n",
    "df_cache.explain()"
   ],
   "metadata": {
    "collapsed": false
   }
  },
  {
   "cell_type": "code",
   "execution_count": 18,
   "outputs": [
    {
     "name": "stderr",
     "output_type": "stream",
     "text": [
      "                                                                                \r"
     ]
    },
    {
     "data": {
      "text/plain": "DataFrame[title: string]"
     },
     "execution_count": 18,
     "metadata": {},
     "output_type": "execute_result"
    }
   ],
   "source": [
    "df_cache.checkpoint()"
   ],
   "metadata": {
    "collapsed": false
   }
  },
  {
   "cell_type": "code",
   "execution_count": 20,
   "outputs": [
    {
     "name": "stderr",
     "output_type": "stream",
     "text": [
      "[Stage 22:=====================================================>(197 + 1) / 200]\r"
     ]
    },
    {
     "name": "stdout",
     "output_type": "stream",
     "text": [
      "== Physical Plan ==\n",
      "*(1) Scan ExistingRDD[title#394]\n",
      "\n",
      "\n"
     ]
    },
    {
     "name": "stderr",
     "output_type": "stream",
     "text": [
      "                                                                                \r"
     ]
    }
   ],
   "source": [
    "df_check = df_cache.checkpoint()\n",
    "df_check.explain()"
   ],
   "metadata": {
    "collapsed": false
   }
  },
  {
   "cell_type": "code",
   "execution_count": null,
   "outputs": [],
   "source": [],
   "metadata": {
    "collapsed": false
   }
  }
 ],
 "metadata": {
  "kernelspec": {
   "display_name": "Python 3",
   "language": "python",
   "name": "python3"
  },
  "language_info": {
   "codemirror_mode": {
    "name": "ipython",
    "version": 2
   },
   "file_extension": ".py",
   "mimetype": "text/x-python",
   "name": "python",
   "nbconvert_exporter": "python",
   "pygments_lexer": "ipython2",
   "version": "2.7.6"
  }
 },
 "nbformat": 4,
 "nbformat_minor": 0
}
