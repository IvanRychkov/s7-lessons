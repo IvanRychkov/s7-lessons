{
 "cells": [
  {
   "cell_type": "code",
   "execution_count": 9,
   "outputs": [
    {
     "data": {
      "text/plain": "'/usr/local/lib/python3.8/dist-packages/pyspark'"
     },
     "execution_count": 9,
     "metadata": {},
     "output_type": "execute_result"
    }
   ],
   "source": [
    "import os\n",
    "\n",
    "import findspark\n",
    "import pyspark.sql.functions as F\n",
    "from pyspark import SparkContext, SparkConf\n",
    "from pyspark.sql import SparkSession\n",
    "from pyspark.sql.window import Window\n",
    "from pyspark.storagelevel import StorageLevel\n",
    "\n",
    "os.environ['HADOOP_CONF_DIR'] = '/etc/hadoop/conf'\n",
    "os.environ['YARN_CONF_DIR'] = '/etc/hadoop/conf'\n",
    "\n",
    "findspark.init()\n",
    "findspark.find()"
   ],
   "metadata": {
    "collapsed": false,
    "ExecuteTime": {
     "end_time": "2023-08-18T13:15:56.306897Z",
     "start_time": "2023-08-18T13:15:56.295101Z"
    }
   }
  },
  {
   "cell_type": "code",
   "execution_count": 2,
   "outputs": [
    {
     "name": "stderr",
     "output_type": "stream",
     "text": [
      "23/08/18 13:00:25 WARN Utils: Your hostname, fhmr7tigqkf5v271ckk4 resolves to a loopback address: 127.0.1.1; using 172.16.0.31 instead (on interface eth0)\n",
      "23/08/18 13:00:25 WARN Utils: Set SPARK_LOCAL_IP if you need to bind to another address\n",
      "Setting default log level to \"WARN\".\n",
      "To adjust logging level use sc.setLogLevel(newLevel). For SparkR, use setLogLevel(newLevel).\n",
      "23/08/18 13:00:26 WARN NativeCodeLoader: Unable to load native-hadoop library for your platform... using builtin-java classes where applicable\n"
     ]
    }
   ],
   "source": [
    "spark = SparkSession.builder \\\n",
    "    .master(\"local\") \\\n",
    "    .appName(\"Learning DataFrames\") \\\n",
    "    .getOrCreate()\n",
    "# данные датафрейма \n",
    "data = [('2021-01-06', 3744, 63, 322),\n",
    "        ('2021-01-04', 2434, 21, 382),\n",
    "        ('2021-01-04', 2434, 32, 159),\n",
    "        ('2021-01-05', 3744, 32, 159),\n",
    "        ('2021-01-06', 4342, 32, 159),\n",
    "        ('2021-01-05', 4342, 12, 259),\n",
    "        ('2021-01-06', 5677, 12, 259),\n",
    "        ('2021-01-04', 5677, 23, 499)]\n",
    "# названия атрибутов\n",
    "columns = ['dt', 'user_id', 'product_id', 'purchase_amount']\n",
    "# создаём датафрейм\n",
    "df = spark.createDataFrame(data=data, schema=columns)"
   ],
   "metadata": {
    "collapsed": false,
    "ExecuteTime": {
     "end_time": "2023-08-18T13:00:37.013609Z",
     "start_time": "2023-08-18T13:00:20.424701Z"
    }
   }
  },
  {
   "cell_type": "markdown",
   "source": [
    "---"
   ],
   "metadata": {
    "collapsed": false
   }
  },
  {
   "cell_type": "code",
   "execution_count": 3,
   "outputs": [
    {
     "name": "stderr",
     "output_type": "stream",
     "text": [
      "[Stage 0:>                                                          (0 + 1) / 1]\r"
     ]
    },
    {
     "name": "stdout",
     "output_type": "stream",
     "text": [
      "+----------+-------+----------+---------------+\n",
      "|        dt|user_id|product_id|purchase_amount|\n",
      "+----------+-------+----------+---------------+\n",
      "|2021-01-06|   3744|        63|            322|\n",
      "|2021-01-04|   2434|        21|            382|\n",
      "|2021-01-04|   2434|        32|            159|\n",
      "|2021-01-05|   3744|        32|            159|\n",
      "|2021-01-06|   4342|        32|            159|\n",
      "+----------+-------+----------+---------------+\n"
     ]
    },
    {
     "name": "stderr",
     "output_type": "stream",
     "text": [
      "                                                                                \r"
     ]
    }
   ],
   "source": [
    "df.show(5)"
   ],
   "metadata": {
    "collapsed": false,
    "ExecuteTime": {
     "end_time": "2023-08-18T13:00:40.351375Z",
     "start_time": "2023-08-18T13:00:37.576218Z"
    }
   }
  },
  {
   "cell_type": "markdown",
   "source": [
    "---"
   ],
   "metadata": {
    "collapsed": false
   }
  },
  {
   "cell_type": "markdown",
   "source": [
    "## 1"
   ],
   "metadata": {
    "collapsed": false
   }
  },
  {
   "cell_type": "code",
   "execution_count": 4,
   "outputs": [
    {
     "name": "stderr",
     "output_type": "stream",
     "text": [
      "23/08/18 13:00:42 WARN WindowExec: No Partition Defined for Window operation! Moving all data to a single partition, this can cause serious performance degradation.\n",
      "23/08/18 13:00:42 WARN WindowExec: No Partition Defined for Window operation! Moving all data to a single partition, this can cause serious performance degradation.\n",
      "23/08/18 13:00:42 WARN WindowExec: No Partition Defined for Window operation! Moving all data to a single partition, this can cause serious performance degradation.\n"
     ]
    },
    {
     "name": "stdout",
     "output_type": "stream",
     "text": [
      "+----------+-------+---------------+----------+\n",
      "|        dt|user_id|purchase_amount|row_number|\n",
      "+----------+-------+---------------+----------+\n",
      "|2021-01-04|   2434|            159|         1|\n",
      "|2021-01-05|   3744|            159|         2|\n",
      "|2021-01-06|   4342|            159|         3|\n",
      "|2021-01-05|   4342|            259|         4|\n",
      "|2021-01-06|   5677|            259|         5|\n",
      "|2021-01-06|   3744|            322|         6|\n",
      "|2021-01-04|   2434|            382|         7|\n",
      "|2021-01-04|   5677|            499|         8|\n",
      "+----------+-------+---------------+----------+\n"
     ]
    }
   ],
   "source": [
    "w = Window.orderBy('purchase_amount')\n",
    "\n",
    "df.orderBy('purchase_amount') \\\n",
    "    .select(\n",
    "    'dt',\n",
    "    'user_id',\n",
    "    'purchase_amount',\n",
    "    F.row_number().over(w).alias('row_number'),\n",
    ") \\\n",
    "    .show()"
   ],
   "metadata": {
    "collapsed": false,
    "ExecuteTime": {
     "end_time": "2023-08-18T13:00:43.011226Z",
     "start_time": "2023-08-18T13:00:42.333061Z"
    }
   }
  },
  {
   "cell_type": "markdown",
   "source": [
    "---"
   ],
   "metadata": {
    "collapsed": false
   }
  },
  {
   "cell_type": "markdown",
   "source": [
    "## 2"
   ],
   "metadata": {
    "collapsed": false
   }
  },
  {
   "cell_type": "code",
   "execution_count": 5,
   "outputs": [
    {
     "name": "stderr",
     "output_type": "stream",
     "text": [
      "[Stage 2:>                                                          (0 + 1) / 1]\r"
     ]
    },
    {
     "name": "stdout",
     "output_type": "stream",
     "text": [
      "root\n",
      " |-- event: struct (nullable = true)\n",
      " |    |-- admins: array (nullable = true)\n",
      " |    |    |-- element: long (containsNull = true)\n",
      " |    |-- channel_id: long (nullable = true)\n",
      " |    |-- datetime: string (nullable = true)\n",
      " |    |-- media: struct (nullable = true)\n",
      " |    |    |-- media_type: string (nullable = true)\n",
      " |    |    |-- src: string (nullable = true)\n",
      " |    |-- message: string (nullable = true)\n",
      " |    |-- message_channel_to: long (nullable = true)\n",
      " |    |-- message_from: long (nullable = true)\n",
      " |    |-- message_group: long (nullable = true)\n",
      " |    |-- message_id: long (nullable = true)\n",
      " |    |-- message_to: long (nullable = true)\n",
      " |    |-- message_ts: string (nullable = true)\n",
      " |    |-- reaction_from: string (nullable = true)\n",
      " |    |-- reaction_type: string (nullable = true)\n",
      " |    |-- subscription_channel: long (nullable = true)\n",
      " |    |-- tags: array (nullable = true)\n",
      " |    |    |-- element: string (containsNull = true)\n",
      " |    |-- user: string (nullable = true)\n",
      " |-- event_type: string (nullable = true)\n"
     ]
    },
    {
     "name": "stderr",
     "output_type": "stream",
     "text": [
      "                                                                                \r"
     ]
    }
   ],
   "source": [
    "events = spark.read.json(\"/user/master/data/events/date=2022-05-01\")\n",
    "events.printSchema()"
   ],
   "metadata": {
    "collapsed": false,
    "ExecuteTime": {
     "end_time": "2023-08-18T13:00:51.905857Z",
     "start_time": "2023-08-18T13:00:48.046437Z"
    }
   }
  },
  {
   "cell_type": "markdown",
   "source": [
    "## 3"
   ],
   "metadata": {
    "collapsed": false
   }
  },
  {
   "cell_type": "code",
   "execution_count": 6,
   "outputs": [
    {
     "name": "stderr",
     "output_type": "stream",
     "text": [
      "                                                                                \r"
     ]
    }
   ],
   "source": [
    "events = spark.read.json(\"/user/master/data/events\")"
   ],
   "metadata": {
    "collapsed": false,
    "ExecuteTime": {
     "end_time": "2023-08-18T13:04:03.545728Z",
     "start_time": "2023-08-18T13:00:59.753512Z"
    }
   }
  },
  {
   "cell_type": "code",
   "execution_count": 10,
   "outputs": [
    {
     "name": "stderr",
     "output_type": "stream",
     "text": [
      "[Stage 11:>                                                         (0 + 1) / 1]\r"
     ]
    },
    {
     "name": "stdout",
     "output_type": "stream",
     "text": [
      "+------------+------+\n",
      "|message_from|lag_7 |\n",
      "+------------+------+\n",
      "|117522      |75319 |\n",
      "|117522      |111232|\n",
      "|117522      |149488|\n",
      "|117522      |149488|\n",
      "|117522      |136603|\n",
      "|117522      |82650 |\n",
      "|117522      |86206 |\n",
      "|117522      |33232 |\n",
      "|117522      |149488|\n",
      "|117522      |146134|\n",
      "|117522      |609   |\n",
      "|117522      |149488|\n",
      "|117522      |90121 |\n",
      "|117522      |108673|\n",
      "|117522      |149488|\n",
      "|117522      |149488|\n",
      "|117522      |21265 |\n",
      "|117522      |95648 |\n",
      "|117522      |149488|\n",
      "|117522      |5880  |\n",
      "+------------+------+\n"
     ]
    },
    {
     "name": "stderr",
     "output_type": "stream",
     "text": [
      "                                                                                \r"
     ]
    }
   ],
   "source": [
    "w = Window.partitionBy('event.message_from').orderBy('event.message_ts')\n",
    "\n",
    "dfWithLag = events \\\n",
    "    .select(\n",
    "        F.col('event.message_from').alias('message_from'),\n",
    "        F.lag(\"event.message_to\").over(w).alias('lag_7'),\n",
    "    ) \\\n",
    "    .persist(StorageLevel.DISK_ONLY)\n",
    "\n",
    "dfWithLag \\\n",
    "    .filter(\n",
    "        dfWithLag.lag_7.isNotNull() &\n",
    "        (dfWithLag.message_from <= 117522)\n",
    "    ) \\\n",
    "    .orderBy(F.desc('event.message_from')) \\\n",
    "    .show(20, False)"
   ],
   "metadata": {
    "collapsed": false,
    "ExecuteTime": {
     "end_time": "2023-08-18T13:20:14.613593Z",
     "start_time": "2023-08-18T13:15:58.742049Z"
    }
   }
  },
  {
   "cell_type": "markdown",
   "source": [
    "---"
   ],
   "metadata": {
    "collapsed": false
   }
  },
  {
   "cell_type": "code",
   "execution_count": 20,
   "outputs": [
    {
     "name": "stderr",
     "output_type": "stream",
     "text": [
      "                                                                                \r"
     ]
    },
    {
     "name": "stdout",
     "output_type": "stream",
     "text": [
      "+------------+-----+\n",
      "|message_from|lag_7|\n",
      "+------------+-----+\n",
      "|      117522| 7815|\n",
      "|      117522| 7815|\n",
      "+------------+-----+\n"
     ]
    }
   ],
   "source": [
    "dfWithLag \\\n",
    "    .filter('message_from = 117522 and lag_7 == 7815') \\\n",
    "    .show()"
   ],
   "metadata": {
    "collapsed": false,
    "ExecuteTime": {
     "end_time": "2023-08-18T13:33:19.244887Z",
     "start_time": "2023-08-18T13:33:17.587351Z"
    }
   }
  },
  {
   "cell_type": "markdown",
   "source": [
    "## 4"
   ],
   "metadata": {
    "collapsed": false
   }
  },
  {
   "cell_type": "code",
   "execution_count": 22,
   "outputs": [],
   "source": [
    "data = [('2021-01-06', 3744, 63, 322),\n",
    "        ('2021-01-04', 2434, 21, 382),\n",
    "        ('2021-01-04', 2434, 32, 159),\n",
    "        ('2021-01-05', 3744, 32, 159),\n",
    "        ('2021-01-06', 4342, 32, 159),\n",
    "        ('2021-01-05', 4342, 12, 259),\n",
    "        ('2021-01-06', 5677, 12, 259),\n",
    "        ('2021-01-04', 5677, 23, 499)\n",
    "]\n",
    "\n",
    "columns = ['dt', 'user_id', 'product_id', 'purchase_amount']\n",
    "\n",
    "df = spark.createDataFrame(data=data, schema=columns)"
   ],
   "metadata": {
    "collapsed": false,
    "ExecuteTime": {
     "end_time": "2023-08-18T13:40:50.994259Z",
     "start_time": "2023-08-18T13:40:50.935381Z"
    }
   }
  },
  {
   "cell_type": "code",
   "execution_count": 26,
   "outputs": [
    {
     "name": "stdout",
     "output_type": "stream",
     "text": [
      "+-------+---+---+\n",
      "|user_id|max|min|\n",
      "+-------+---+---+\n",
      "|2434   |382|159|\n",
      "|3744   |322|159|\n",
      "|4342   |259|159|\n",
      "|5677   |499|259|\n",
      "+-------+---+---+\n"
     ]
    }
   ],
   "source": [
    "w = Window.partitionBy('user_id')\n",
    "\n",
    "df \\\n",
    "    .select(\n",
    "        'user_id',\n",
    "        F.max('purchase_amount').over(w).alias('max'),\n",
    "        F.min('purchase_amount').over(w).alias('min'),\n",
    "    ) \\\n",
    "    .dropDuplicates(['user_id']) \\\n",
    "    .show(10, False)"
   ],
   "metadata": {
    "collapsed": false,
    "ExecuteTime": {
     "end_time": "2023-08-18T13:46:01.479407Z",
     "start_time": "2023-08-18T13:46:01.266045Z"
    }
   }
  },
  {
   "cell_type": "code",
   "execution_count": null,
   "outputs": [],
   "source": [],
   "metadata": {
    "collapsed": false
   }
  }
 ],
 "metadata": {
  "kernelspec": {
   "display_name": "Python 3",
   "language": "python",
   "name": "python3"
  },
  "language_info": {
   "codemirror_mode": {
    "name": "ipython",
    "version": 2
   },
   "file_extension": ".py",
   "mimetype": "text/x-python",
   "name": "python",
   "nbconvert_exporter": "python",
   "pygments_lexer": "ipython2",
   "version": "2.7.6"
  }
 },
 "nbformat": 4,
 "nbformat_minor": 0
}
