{
 "cells": [
  {
   "cell_type": "code",
   "execution_count": 7,
   "outputs": [
    {
     "data": {
      "text/plain": "'/usr/local/lib/python3.8/dist-packages/pyspark'"
     },
     "execution_count": 7,
     "metadata": {},
     "output_type": "execute_result"
    }
   ],
   "source": [
    "from pyspark.sql import SparkSession\n",
    "import findspark\n",
    "import os\n",
    "\n",
    "os.environ['HADOOP_CONF_DIR'] = '/etc/hadoop/conf'\n",
    "os.environ['YARN_CONF_DIR'] = '/etc/hadoop/conf'\n",
    "\n",
    "findspark.init()\n",
    "findspark.find()"
   ],
   "metadata": {
    "collapsed": false
   }
  },
  {
   "cell_type": "code",
   "execution_count": 12,
   "outputs": [
    {
     "name": "stderr",
     "output_type": "stream",
     "text": [
      "23/07/23 19:35:12 WARN Client: Neither spark.yarn.jars nor spark.yarn.archive is set, falling back to uploading libraries under SPARK_HOME.\n"
     ]
    }
   ],
   "source": [
    "spark = SparkSession.builder \\\n",
    "    .master('yarn') \\\n",
    "    .config('spark.driver.memory', '1g') \\\n",
    "    .config('spark.driver.cores', 1) \\\n",
    "    .appName('DF transform test') \\\n",
    "    .getOrCreate()"
   ],
   "metadata": {
    "collapsed": false
   }
  },
  {
   "cell_type": "markdown",
   "source": [
    "---"
   ],
   "metadata": {
    "collapsed": false
   }
  },
  {
   "cell_type": "code",
   "execution_count": 13,
   "outputs": [
    {
     "name": "stderr",
     "output_type": "stream",
     "text": [
      "23/07/23 19:36:43 WARN YarnScheduler: Initial job has not accepted any resources; check your cluster UI to ensure that workers are registered and have sufficient resources\n",
      "23/07/23 19:36:58 WARN YarnScheduler: Initial job has not accepted any resources; check your cluster UI to ensure that workers are registered and have sufficient resources\n",
      "23/07/23 19:37:13 WARN YarnScheduler: Initial job has not accepted any resources; check your cluster UI to ensure that workers are registered and have sufficient resources\n",
      "23/07/23 19:37:28 WARN YarnScheduler: Initial job has not accepted any resources; check your cluster UI to ensure that workers are registered and have sufficient resources\n",
      "23/07/23 19:37:43 WARN YarnScheduler: Initial job has not accepted any resources; check your cluster UI to ensure that workers are registered and have sufficient resources\n",
      "23/07/23 19:37:58 WARN YarnScheduler: Initial job has not accepted any resources; check your cluster UI to ensure that workers are registered and have sufficient resources\n",
      "                                                                                \r"
     ]
    },
    {
     "data": {
      "text/plain": "364815"
     },
     "execution_count": 13,
     "metadata": {},
     "output_type": "execute_result"
    }
   ],
   "source": [
    "events = spark.read.json(\"/user/master/data/events/date=2022-05-25\")\n",
    "events.select(\"event.message_from\").filter(\"event_type == 'reaction'\").count()"
   ],
   "metadata": {
    "collapsed": false
   }
  },
  {
   "cell_type": "code",
   "execution_count": 14,
   "outputs": [],
   "source": [
    "spark.stop()"
   ],
   "metadata": {
    "collapsed": false
   }
  },
  {
   "cell_type": "markdown",
   "source": [
    "---"
   ],
   "metadata": {
    "collapsed": false
   }
  },
  {
   "cell_type": "code",
   "execution_count": 0,
   "outputs": [],
   "source": [
    "spark = SparkSession.builder \\\n",
    "    .master(\"local\") \\\n",
    "    .appName(\"Learning DataFrames\") \\\n",
    "    .getOrCreate()"
   ],
   "metadata": {
    "collapsed": false
   }
  },
  {
   "cell_type": "code",
   "execution_count": 20,
   "outputs": [
    {
     "name": "stdout",
     "output_type": "stream",
     "text": [
      "+-----------------------------------+\n",
      "|title                              |\n",
      "+-----------------------------------+\n",
      "|Jane Eyre                          |\n",
      "|Harry Potter and the Goblet of Fire|\n",
      "|Nineteen Eighty-Four               |\n",
      "+-----------------------------------+\n",
      "\n"
     ]
    }
   ],
   "source": [
    "# данные первого датафрейма\n",
    "book = [('Harry Potter and the Goblet of Fire', 'J. K. Rowling', 322),\n",
    "        ('Nineteen Eighty-Four', 'George Orwell', 382),\n",
    "        ('Jane Eyre', 'Charlotte Brontë', 159),\n",
    "        ('Catch-22', 'Joseph Heller', 174),\n",
    "        ('The Catcher in the Rye', 'J. D. Salinger', 168),\n",
    "        ('The Wind in the Willows', 'Kenneth Grahame', 259),\n",
    "        ('The Mayor of Casterbridge', 'Thomas Hardy', 300),\n",
    "        ('Bad Girls', 'Jacqueline Wilson', 299)\n",
    "        ]\n",
    "# данные второго датафрейма\n",
    "library = [\n",
    "    (322, \"1\"),\n",
    "    (250, \"2\"),\n",
    "    (400, \"2\"),\n",
    "    (159, \"1\"),\n",
    "    (382, \"2\"),\n",
    "    (322, \"1\")\n",
    "]\n",
    "# названия атрибутов\n",
    "columns = ['title', 'author', 'book_id']\n",
    "columns_library = ['book_id', 'Library_id']\n",
    "# создаём датафреймы\n",
    "df = spark.createDataFrame(data=book, schema=columns)\n",
    "df_library = spark.createDataFrame(data=library, schema=columns_library)\n",
    "# напишите ваш код ниже\n",
    "df \\\n",
    "    .join(df_library, 'book_id', 'left_semi') \\\n",
    "    .select('title') \\\n",
    "    .show(truncate=False)\n"
   ],
   "metadata": {
    "collapsed": false
   }
  },
  {
   "cell_type": "code",
   "execution_count": 22,
   "outputs": [
    {
     "name": "stdout",
     "output_type": "stream",
     "text": [
      "+-----------------------------------+------------------------+-------+\n",
      "|title                              |author                  |book_id|\n",
      "+-----------------------------------+------------------------+-------+\n",
      "|Harry Potter and the Goblet of Fire|J. K. Rowling           |322    |\n",
      "|Nineteen Eighty-Four               |George Orwell           |382    |\n",
      "|Jane Eyre                          |Charlotte Brontë        |159    |\n",
      "|Catch-22                           |Joseph Heller           |174    |\n",
      "|The Catcher in the Rye             |J. D. Salinger          |168    |\n",
      "|The Wind in the Willows            |Kenneth Grahame         |259    |\n",
      "|The Mayor of Casterbridge          |Thomas Hardy            |300    |\n",
      "|Bad Girls                          |Jacqueline Wilson       |299    |\n",
      "|Black Beauty                       |Anna Sewell             |657    |\n",
      "|Artemis Fowl                       |Eoin Colfer             |558    |\n",
      "|The Magic Faraway Tree             |Enid Blyton             |567    |\n",
      "|The Witches                        |Roald Dahl              |567    |\n",
      "|Frankenstein                       |Mary Shelley            |567    |\n",
      "|The Little Prince                  |Antoine de Saint-Exupéry|557    |\n",
      "|The Truth                          |Terry Pratchett         |576    |\n",
      "+-----------------------------------+------------------------+-------+\n",
      "\n"
     ]
    }
   ],
   "source": [
    "# данные первого датафрейма\n",
    "book_1 = [('Harry Potter and the Goblet of Fire', 'J. K. Rowling', 322),\n",
    "        ('Nineteen Eighty-Four', 'George Orwell', 382),\n",
    "        ('Jane Eyre', 'Charlotte Brontë', 159),\n",
    "        ('Catch-22', 'Joseph Heller',  174),\n",
    "        ('The Catcher in the Rye', 'J. D. Salinger',  168),\n",
    "        ('The Wind in the Willows', 'Kenneth Grahame',  259),\n",
    "        ('The Mayor of Casterbridge', 'Thomas Hardy',  300),\n",
    "        ('Bad Girls', 'Jacqueline Wilson',  299)\n",
    "]\n",
    "# данные второго датафрейма\n",
    "book_2 = [\n",
    "        ('Black Beauty',657 ,'Anna Sewell'),\n",
    "        ('Artemis Fowl',558,'Eoin Colfer'),\n",
    "        ('The Magic Faraway Tree', 567,'Enid Blyton'),\n",
    "        ('The Witches', 567,'Roald Dahl'),\n",
    "        ('Frankenstein',567 ,'Mary Shelley'),\n",
    "        ('The Little Prince',557 ,'Antoine de Saint-Exupéry'),\n",
    "        ('The Truth', 576 ,'Terry Pratchett')\n",
    "]\n",
    "# названия атрибутов\n",
    "columns_1= ['title', 'author', 'book_id']\n",
    "columns_2 = ['title', 'book_id', 'author']\n",
    "# создаём датафреймы\n",
    "df_1 = spark.createDataFrame(data=book_1 , schema=columns_1)\n",
    "df_2  = spark.createDataFrame(data=book_2 , schema=columns_2)\n",
    "# напишите ваш код ниже\n",
    "df_1.unionByName(df_2).show(truncate=False)"
   ],
   "metadata": {
    "collapsed": false
   }
  },
  {
   "cell_type": "code",
   "execution_count": null,
   "outputs": [],
   "source": [],
   "metadata": {
    "collapsed": false
   }
  }
 ],
 "metadata": {
  "kernelspec": {
   "display_name": "Python 3",
   "language": "python",
   "name": "python3"
  },
  "language_info": {
   "codemirror_mode": {
    "name": "ipython",
    "version": 2
   },
   "file_extension": ".py",
   "mimetype": "text/x-python",
   "name": "python",
   "nbconvert_exporter": "python",
   "pygments_lexer": "ipython2",
   "version": "2.7.6"
  }
 },
 "nbformat": 4,
 "nbformat_minor": 0
}
