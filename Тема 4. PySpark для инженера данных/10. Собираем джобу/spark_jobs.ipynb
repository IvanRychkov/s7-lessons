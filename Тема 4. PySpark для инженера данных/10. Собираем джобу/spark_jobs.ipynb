{
 "cells": [
  {
   "cell_type": "code",
   "execution_count": 1,
   "outputs": [
    {
     "data": {
      "text/plain": "'/usr/local/lib/python3.8/dist-packages/pyspark'"
     },
     "execution_count": 1,
     "metadata": {},
     "output_type": "execute_result"
    }
   ],
   "source": [
    "import os\n",
    "\n",
    "import findspark\n",
    "import pyspark.sql.functions as F\n",
    "from pyspark import SparkContext, SparkConf\n",
    "from pyspark.sql import SparkSession\n",
    "from pyspark.storagelevel import StorageLevel\n",
    "\n",
    "os.environ['HADOOP_CONF_DIR'] = '/etc/hadoop/conf'\n",
    "os.environ['YARN_CONF_DIR'] = '/etc/hadoop/conf'\n",
    "\n",
    "findspark.init()\n",
    "findspark.find()"
   ],
   "metadata": {
    "collapsed": false,
    "ExecuteTime": {
     "end_time": "2023-08-23T18:16:49.981836Z",
     "start_time": "2023-08-23T18:16:49.813570Z"
    }
   },
   "id": "bd2ef44376f1f4a3"
  },
  {
   "cell_type": "code",
   "execution_count": 2,
   "outputs": [
    {
     "name": "stderr",
     "output_type": "stream",
     "text": [
      "23/08/23 18:16:51 WARN Utils: Your hostname, fhmdemjakmfibonrjd21 resolves to a loopback address: 127.0.1.1; using 172.16.0.8 instead (on interface eth0)\n",
      "23/08/23 18:16:51 WARN Utils: Set SPARK_LOCAL_IP if you need to bind to another address\n",
      "Setting default log level to \"WARN\".\n",
      "To adjust logging level use sc.setLogLevel(newLevel). For SparkR, use setLogLevel(newLevel).\n",
      "23/08/23 18:16:52 WARN NativeCodeLoader: Unable to load native-hadoop library for your platform... using builtin-java classes where applicable\n",
      "23/08/23 18:16:55 WARN Client: Neither spark.yarn.jars nor spark.yarn.archive is set, falling back to uploading libraries under SPARK_HOME.\n"
     ]
    }
   ],
   "source": [
    "spark = SparkSession.builder \\\n",
    "    .master('yarn') \\\n",
    "    .appName('Spark Jobs') \\\n",
    "    .getOrCreate()"
   ],
   "metadata": {
    "collapsed": false,
    "ExecuteTime": {
     "end_time": "2023-08-23T18:17:19.363383Z",
     "start_time": "2023-08-23T18:16:49.980564Z"
    }
   },
   "id": "330f4153c263c262"
  },
  {
   "cell_type": "code",
   "execution_count": 36,
   "outputs": [
    {
     "name": "stderr",
     "output_type": "stream",
     "text": [
      "                                                                                \r"
     ]
    }
   ],
   "source": [
    "events = spark.read.json('/user/master/data/events')"
   ],
   "metadata": {
    "collapsed": false,
    "ExecuteTime": {
     "end_time": "2023-08-18T14:23:09.694730Z",
     "start_time": "2023-08-18T14:20:58.763940Z"
    }
   },
   "id": "7f90da0f7c149469"
  },
  {
   "cell_type": "code",
   "execution_count": null,
   "outputs": [],
   "source": [
    "events.printSchema()"
   ],
   "metadata": {
    "collapsed": false,
    "is_executing": true
   },
   "id": "6d6661d003cbf055"
  },
  {
   "cell_type": "code",
   "execution_count": 41,
   "outputs": [],
   "source": [
    "!hdfs dfs -chmod -R 733 data"
   ],
   "metadata": {
    "collapsed": false,
    "ExecuteTime": {
     "end_time": "2023-08-18T14:33:39.153930Z",
     "start_time": "2023-08-18T14:33:32.513483Z"
    }
   },
   "id": "334581d07f624ce1"
  },
  {
   "cell_type": "code",
   "execution_count": 22,
   "outputs": [],
   "source": [
    "!hdfs dfs -chown -R ivanrychko data"
   ],
   "metadata": {
    "collapsed": false
   },
   "id": "3d4f0bb007ae0785"
  },
  {
   "cell_type": "code",
   "execution_count": 40,
   "outputs": [
    {
     "name": "stderr",
     "output_type": "stream",
     "text": [
      "                                                                                \r"
     ]
    }
   ],
   "source": [
    "events.write \\\n",
    "    .partitionBy('date', 'event_type') \\\n",
    "    .mode('overwrite') \\\n",
    "    .parquet('/user/ivanrychko/data/events')"
   ],
   "metadata": {
    "collapsed": false,
    "ExecuteTime": {
     "end_time": "2023-08-18T14:33:32.507158Z",
     "start_time": "2023-08-18T14:28:28.982719Z"
    }
   },
   "id": "67b2c2dee5b10f64"
  },
  {
   "cell_type": "code",
   "execution_count": 6,
   "outputs": [
    {
     "name": "stderr",
     "output_type": "stream",
     "text": [
      "[Stage 11:=====================================================>  (39 + 1) / 41]\r"
     ]
    },
    {
     "name": "stdout",
     "output_type": "stream",
     "text": [
      "+--------------------+----------+------------+\n",
      "|               event|      date|  event_type|\n",
      "+--------------------+----------+------------+\n",
      "|{[19342], 987160,...|2022-05-31|     message|\n",
      "|{null, null, 2022...|2022-05-31|subscription|\n",
      "|{[26358], 247511,...|2022-05-31|     message|\n",
      "|{[79792], 748847,...|2022-05-31|     message|\n",
      "|{null, null, 2022...|2022-05-31|subscription|\n",
      "|{null, null, 2022...|2022-05-31|subscription|\n",
      "|{[151897], 396845...|2022-05-31|     message|\n",
      "|{null, null, 2022...|2022-05-31|subscription|\n",
      "|{null, null, 2022...|2022-05-31|subscription|\n",
      "|{null, null, 2022...|2022-05-31|subscription|\n",
      "+--------------------+----------+------------+\n"
     ]
    },
    {
     "name": "stderr",
     "output_type": "stream",
     "text": [
      "                                                                                \r"
     ]
    }
   ],
   "source": [
    "spark.read.parquet('/user/ivanrychko/data/events').sort(F.desc('event.datetime')).show(10)"
   ],
   "metadata": {
    "collapsed": false,
    "ExecuteTime": {
     "end_time": "2023-08-23T18:23:50.059428Z",
     "start_time": "2023-08-23T18:23:06.259307Z"
    }
   },
   "id": "3dce1115304ab692"
  },
  {
   "cell_type": "code",
   "execution_count": 34,
   "outputs": [
    {
     "name": "stdout",
     "output_type": "stream",
     "text": [
      "chmod: changing permissions of '/': Permission denied. user=ivanrychko is not the owner of inode=/\r\n"
     ]
    }
   ],
   "source": [
    "!hdfs dfs -chmod -R 777 /user"
   ],
   "metadata": {
    "collapsed": false,
    "ExecuteTime": {
     "end_time": "2023-08-18T14:20:23.435499Z",
     "start_time": "2023-08-18T14:20:21.379750Z"
    }
   },
   "id": "f4211a054bf3d5f6"
  },
  {
   "cell_type": "code",
   "execution_count": null,
   "outputs": [],
   "source": [],
   "metadata": {
    "collapsed": false
   },
   "id": "b7619a4b9c6d6505"
  }
 ],
 "metadata": {
  "kernelspec": {
   "display_name": "Python 3",
   "language": "python",
   "name": "python3"
  },
  "language_info": {
   "codemirror_mode": {
    "name": "ipython",
    "version": 2
   },
   "file_extension": ".py",
   "mimetype": "text/x-python",
   "name": "python",
   "nbconvert_exporter": "python",
   "pygments_lexer": "ipython2",
   "version": "2.7.6"
  }
 },
 "nbformat": 4,
 "nbformat_minor": 5
}
